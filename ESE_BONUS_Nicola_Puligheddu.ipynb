{
 "cells": [
  {
   "cell_type": "markdown",
   "id": "c1c12b17",
   "metadata": {},
   "source": [
    "# Nicola Puligheddu"
   ]
  },
  {
   "cell_type": "markdown",
   "id": "d832e381",
   "metadata": {},
   "source": [
    "# Ese Bonus 1"
   ]
  },
  {
   "cell_type": "code",
   "execution_count": 46,
   "id": "043308ae",
   "metadata": {},
   "outputs": [
    {
     "data": {
      "text/plain": [
       "Text(0, 0.5, '$ price')"
      ]
     },
     "execution_count": 46,
     "metadata": {},
     "output_type": "execute_result"
    },
    {
     "data": {
      "image/png": "[encoded data removed]",
      "text/plain": [
       "<Figure size 432x288 with 1 Axes>"
      ]
     },
     "metadata": {
      "needs_background": "light"
     },
     "output_type": "display_data"
    }
   ],
   "source": [
    "import pandas as pd\n",
    "import matplotlib.pyplot as plt\n",
    "import numpy as np\n",
    "\n",
    "stokes = pd.read_csv('alphabet_stock_data__1_.csv')\n",
    "stokes[\"Date\"] = pd.to_datetime(stokes[\"Date\"])\n",
    "\n",
    "stokes = stokes.dropna(how = \"all\")\n",
    "mask = (stokes[\"Date\"] > \"2020-04\") & (stokes[\"Date\"] <= \"2020-10\")\n",
    "stokes_filtered = stokes[mask]\n",
    "\n",
    "\n",
    "\n",
    "plt.plot(stokes_filtered[\"Date\"] , stokes_filtered[\"Close\"])\n",
    "\n",
    "plt.title(\"Stock prices of Alphabet Inc. \\n From 2020-04 to 2020-10 \")\n",
    "plt.xlabel(\"Date\")\n",
    "plt.ylabel(\"$ price\")"
   ]
  },
  {
   "cell_type": "code",
   "execution_count": null,
   "id": "75d66d24",
   "metadata": {},
   "outputs": [],
   "source": []
  },
  {
   "cell_type": "markdown",
   "id": "f70144ea",
   "metadata": {},
   "source": [
    "# Ese Bonus 2"
   ]
  },
  {
   "cell_type": "code",
   "execution_count": 11,
   "id": "06c8d396",
   "metadata": {},
   "outputs": [
    {
     "data": {
      "text/html": [
       "<div>\n",
       "<style scoped>\n",
       "    .dataframe tbody tr th:only-of-type {\n",
       "        vertical-align: middle;\n",
       "    }\n",
       "\n",
       "    .dataframe tbody tr th {\n",
       "        vertical-align: top;\n",
       "    }\n",
       "\n",
       "    .dataframe thead th {\n",
       "        text-align: right;\n",
       "    }\n",
       "</style>\n",
       "<table border=\"1\" class=\"dataframe\">\n",
       "  <thead>\n",
       "    <tr style=\"text-align: right;\">\n",
       "      <th></th>\n",
       "      <th>Date</th>\n",
       "      <th>Open</th>\n",
       "      <th>High</th>\n",
       "      <th>Low</th>\n",
       "      <th>Close</th>\n",
       "      <th>Adj Close</th>\n",
       "      <th>Volume</th>\n",
       "    </tr>\n",
       "  </thead>\n",
       "  <tbody>\n",
       "    <tr>\n",
       "      <th>0</th>\n",
       "      <td>2020-04-01</td>\n",
       "      <td>1122.000000</td>\n",
       "      <td>1129.689941</td>\n",
       "      <td>1097.449951</td>\n",
       "      <td>1105.619995</td>\n",
       "      <td>1105.619995</td>\n",
       "      <td>2343100</td>\n",
       "    </tr>\n",
       "    <tr>\n",
       "      <th>1</th>\n",
       "      <td>2020-04-02</td>\n",
       "      <td>1098.260010</td>\n",
       "      <td>1126.859985</td>\n",
       "      <td>1096.400024</td>\n",
       "      <td>1120.839966</td>\n",
       "      <td>1120.839966</td>\n",
       "      <td>1964900</td>\n",
       "    </tr>\n",
       "    <tr>\n",
       "      <th>2</th>\n",
       "      <td>2020-04-03</td>\n",
       "      <td>1119.015015</td>\n",
       "      <td>1123.540039</td>\n",
       "      <td>1079.810059</td>\n",
       "      <td>1097.880005</td>\n",
       "      <td>1097.880005</td>\n",
       "      <td>2313400</td>\n",
       "    </tr>\n",
       "    <tr>\n",
       "      <th>3</th>\n",
       "      <td>2020-04-06</td>\n",
       "      <td>1138.000000</td>\n",
       "      <td>1194.660034</td>\n",
       "      <td>1130.939941</td>\n",
       "      <td>1186.920044</td>\n",
       "      <td>1186.920044</td>\n",
       "      <td>2664700</td>\n",
       "    </tr>\n",
       "    <tr>\n",
       "      <th>4</th>\n",
       "      <td>2020-04-07</td>\n",
       "      <td>1221.000000</td>\n",
       "      <td>1225.000000</td>\n",
       "      <td>1182.229980</td>\n",
       "      <td>1186.510010</td>\n",
       "      <td>1186.510010</td>\n",
       "      <td>2387300</td>\n",
       "    </tr>\n",
       "    <tr>\n",
       "      <th>...</th>\n",
       "      <td>...</td>\n",
       "      <td>...</td>\n",
       "      <td>...</td>\n",
       "      <td>...</td>\n",
       "      <td>...</td>\n",
       "      <td>...</td>\n",
       "      <td>...</td>\n",
       "    </tr>\n",
       "    <tr>\n",
       "      <th>122</th>\n",
       "      <td>2020-09-24</td>\n",
       "      <td>1411.030029</td>\n",
       "      <td>1443.708984</td>\n",
       "      <td>1409.849976</td>\n",
       "      <td>1428.290039</td>\n",
       "      <td>1428.290039</td>\n",
       "      <td>1450200</td>\n",
       "    </tr>\n",
       "    <tr>\n",
       "      <th>123</th>\n",
       "      <td>2020-09-25</td>\n",
       "      <td>1432.630005</td>\n",
       "      <td>1450.000000</td>\n",
       "      <td>1413.339966</td>\n",
       "      <td>1444.959961</td>\n",
       "      <td>1444.959961</td>\n",
       "      <td>1323000</td>\n",
       "    </tr>\n",
       "    <tr>\n",
       "      <th>124</th>\n",
       "      <td>2020-09-28</td>\n",
       "      <td>1474.209961</td>\n",
       "      <td>1476.800049</td>\n",
       "      <td>1449.301025</td>\n",
       "      <td>1464.520020</td>\n",
       "      <td>1464.520020</td>\n",
       "      <td>2007900</td>\n",
       "    </tr>\n",
       "    <tr>\n",
       "      <th>125</th>\n",
       "      <td>2020-09-29</td>\n",
       "      <td>1470.390015</td>\n",
       "      <td>1476.662964</td>\n",
       "      <td>1458.805054</td>\n",
       "      <td>1469.329956</td>\n",
       "      <td>1469.329956</td>\n",
       "      <td>978200</td>\n",
       "    </tr>\n",
       "    <tr>\n",
       "      <th>126</th>\n",
       "      <td>2020-09-30</td>\n",
       "      <td>1466.800049</td>\n",
       "      <td>1489.750000</td>\n",
       "      <td>1459.880005</td>\n",
       "      <td>1469.599976</td>\n",
       "      <td>1469.599976</td>\n",
       "      <td>1700600</td>\n",
       "    </tr>\n",
       "  </tbody>\n",
       "</table>\n",
       "<p>127 rows × 7 columns</p>\n",
       "</div>"
      ],
      "text/plain": [
       "           Date         Open         High          Low        Close  \\\n",
       "0    2020-04-01  1122.000000  1129.689941  1097.449951  1105.619995   \n",
       "1    2020-04-02  1098.260010  1126.859985  1096.400024  1120.839966   \n",
       "2    2020-04-03  1119.015015  1123.540039  1079.810059  1097.880005   \n",
       "3    2020-04-06  1138.000000  1194.660034  1130.939941  1186.920044   \n",
       "4    2020-04-07  1221.000000  1225.000000  1182.229980  1186.510010   \n",
       "..          ...          ...          ...          ...          ...   \n",
       "122  2020-09-24  1411.030029  1443.708984  1409.849976  1428.290039   \n",
       "123  2020-09-25  1432.630005  1450.000000  1413.339966  1444.959961   \n",
       "124  2020-09-28  1474.209961  1476.800049  1449.301025  1464.520020   \n",
       "125  2020-09-29  1470.390015  1476.662964  1458.805054  1469.329956   \n",
       "126  2020-09-30  1466.800049  1489.750000  1459.880005  1469.599976   \n",
       "\n",
       "       Adj Close   Volume  \n",
       "0    1105.619995  2343100  \n",
       "1    1120.839966  1964900  \n",
       "2    1097.880005  2313400  \n",
       "3    1186.920044  2664700  \n",
       "4    1186.510010  2387300  \n",
       "..           ...      ...  \n",
       "122  1428.290039  1450200  \n",
       "123  1444.959961  1323000  \n",
       "124  1464.520020  2007900  \n",
       "125  1469.329956   978200  \n",
       "126  1469.599976  1700600  \n",
       "\n",
       "[127 rows x 7 columns]"
      ]
     },
     "execution_count": 11,
     "metadata": {},
     "output_type": "execute_result"
    }
   ],
   "source": [
    "stokes = pd.read_csv('alphabet_stock_data__1_.csv')\n",
    "\n",
    "stokes = stokes.dropna(how = \"all\")\n",
    "stokes\n"
   ]
  },
  {
   "cell_type": "code",
   "execution_count": 47,
   "id": "7b2085bf",
   "metadata": {},
   "outputs": [
    {
     "data": {
      "text/plain": [
       "<matplotlib.legend.Legend at 0x23f8a270700>"
      ]
     },
     "execution_count": 47,
     "metadata": {},
     "output_type": "execute_result"
    },
    {
     "data": {
      "image/png": "[encoded data removed]",
      "text/plain": [
       "<Figure size 432x288 with 1 Axes>"
      ]
     },
     "metadata": {
      "needs_background": "light"
     },
     "output_type": "display_data"
    }
   ],
   "source": [
    "\n",
    "n_bins = 200\n",
    "\n",
    "mask = (stokes[\"Date\"] > \"2020-03\") & (stokes[\"Date\"] <= \"2020-08\")\n",
    "stokes_filtered = stokes[mask]\n",
    "fig = plt.hist( [stokes_filtered[\"Open\"] ,stokes_filtered[\"Close\"] ,stokes_filtered[\"High\"], stokes_filtered[\"Low\"]] \\\n",
    "               ,bins = n_bins, stacked = True)\n",
    "\n",
    "plt.title(\"Opening/Closing/High/Low stock prices of Alphabet Inc., \\n From 2020-03 to 2020-08 \")\n",
    "plt.xlabel(\"Date\")\n",
    "plt.ylabel(\"$ price\")\n",
    "plt.legend([\"Open\",\"Close\",\"High\",\"Low\"])"
   ]
  }
 ],
 "metadata": {
  "kernelspec": {
   "display_name": "Python 3 (ipykernel)",
   "language": "python",
   "name": "python3"
  },
  "language_info": {
   "codemirror_mode": {
    "name": "ipython",
    "version": 3
   },
   "file_extension": ".py",
   "mimetype": "text/x-python",
   "name": "python",
   "nbconvert_exporter": "python",
   "pygments_lexer": "ipython3",
   "version": "3.9.7"
  }
 },
 "nbformat": 4,
 "nbformat_minor": 5
}
